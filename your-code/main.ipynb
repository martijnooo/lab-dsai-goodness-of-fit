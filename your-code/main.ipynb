{
 "cells": [
  {
   "cell_type": "markdown",
   "metadata": {},
   "source": [
    "# Lab | Goodness of Fit and Independence Tests\n",
    "\n",
    "## Question 1\n",
    "A researcher gathers information about the patterns of Physical Activity of children in the fifth grade of primary school of a public school. He defines three categories of physical activity (Low, Medium, High). He also inquires about the regular consumption of sugary drinks at school, and defines two categories (Yes = consumed, No = not consumed). We would like to evaluate if there is an association between patterns of physical activity and the consumption of sugary drinks for the children of this school, at a level of 5% significance. The results are in the following table: \n",
    "\n",
    "![](https://education-team-2020.s3.eu-west-1.amazonaws.com/ds-ai/lab-goodness-of-fit/table4.png)"
   ]
  },
  {
   "cell_type": "code",
   "execution_count": 1,
   "metadata": {},
   "outputs": [
    {
     "data": {
      "text/plain": [
       "(np.float64(10.712198008709638),\n",
       " np.float64(0.004719280137040844),\n",
       " 2,\n",
       " array([[24.08421053, 19.91578947],\n",
       "        [19.70526316, 16.29473684],\n",
       "        [ 8.21052632,  6.78947368]]))"
      ]
     },
     "execution_count": 1,
     "metadata": {},
     "output_type": "execute_result"
    }
   ],
   "source": [
    "import scipy.stats as stats\n",
    "import numpy as np\n",
    "\n",
    "# Observed values from the contingency table\n",
    "observed = np.array([\n",
    "    [32, 12],\n",
    "    [14, 22],\n",
    "    [6, 9]\n",
    "])\n",
    "\n",
    "# Perform Chi-square test of independence\n",
    "chi2_stat, p_val, dof, expected = stats.chi2_contingency(observed)\n",
    "\n",
    "chi2_stat, p_val, dof, expected\n"
   ]
  },
  {
   "cell_type": "markdown",
   "metadata": {},
   "source": [
    "## [OPTIONAL] Question 2\n",
    "The following table indicates the number of 6-point scores in an American rugby match in the 1979 season.\n",
    "\n",
    "![](https://education-team-2020.s3.eu-west-1.amazonaws.com/ds-ai/lab-goodness-of-fit/table1.png)\n",
    "\n",
    "Based on these results, we create a Poisson distribution with the sample mean parameter  = 2.435. Is there any reason to believe that at a .05 level the number of scores is a Poisson variable?\n",
    "\n",
    "Check [here](https://www.geeksforgeeks.org/how-to-create-a-poisson-probability-mass-function-plot-in-python/) how to create a poisson distribution and how to calculate the expected observations, using the probability mass function (pmf). \n",
    "A Poisson distribution is a discrete probability distribution. It gives the probability of an event happening a certain number of times (k) within a given interval of time or space. The Poisson distribution has only one parameter, λ (lambda), which is the mean number of events."
   ]
  },
  {
   "cell_type": "code",
   "execution_count": 21,
   "metadata": {},
   "outputs": [
    {
     "data": {
      "text/plain": [
       "(np.float64(6.490217386995407),\n",
       " np.float64(0.4838104817385577),\n",
       " np.float64(2.435267857142857))"
      ]
     },
     "execution_count": 21,
     "metadata": {},
     "output_type": "execute_result"
    }
   ],
   "source": [
    "import numpy as np\n",
    "from scipy.stats import poisson, chisquare\n",
    "\n",
    "# Observed frequencies from the image\n",
    "observed = np.array([35, 99, 104, 110, 62, 25, 10, 3])\n",
    "total = np.sum(observed)\n",
    "\n",
    "# Calculate lambda (mean number of scores)\n",
    "score_values = np.array([0, 1, 2, 3, 4, 5, 6, 7])  # using 7 for \"7 or more\"\n",
    "mean_lambda = np.sum(observed * score_values) / total\n",
    "\n",
    "# Calculate expected probabilities for k = 0 to 6\n",
    "expected_probs = poisson.pmf(k=np.arange(0, 7), mu=mean_lambda)\n",
    "# Add probability for 7 or more\n",
    "expected_probs = np.append(expected_probs, 1 - expected_probs.sum())\n",
    "\n",
    "# Expected frequencies\n",
    "expected = expected_probs * total\n",
    "\n",
    "# Combine bins if expected frequencies are too small (< 5)\n",
    "# Combine last two bins if needed\n",
    "if expected[-1] < 5:\n",
    "    expected[-2] += expected[-1]\n",
    "    observed[-2] += observed[-1]\n",
    "    expected = expected[:-1]\n",
    "    observed = observed[:-1]\n",
    "\n",
    "# Perform chi-square goodness-of-fit test\n",
    "chi2_stat, p_value = chisquare(f_obs=observed, f_exp=expected)\n",
    "\n",
    "chi2_stat, p_value, mean_lambda\n"
   ]
  }
 ],
 "metadata": {
  "kernelspec": {
   "display_name": "venv",
   "language": "python",
   "name": "python3"
  },
  "language_info": {
   "codemirror_mode": {
    "name": "ipython",
    "version": 3
   },
   "file_extension": ".py",
   "mimetype": "text/x-python",
   "name": "python",
   "nbconvert_exporter": "python",
   "pygments_lexer": "ipython3",
   "version": "3.12.7"
  }
 },
 "nbformat": 4,
 "nbformat_minor": 2
}
